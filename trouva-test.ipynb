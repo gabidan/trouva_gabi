{
 "cells": [
  {
   "cell_type": "markdown",
   "metadata": {},
   "source": [
    "#### TROUVA "
   ]
  },
  {
   "cell_type": "code",
   "execution_count": 1,
   "metadata": {
    "collapsed": true
   },
   "outputs": [],
   "source": [
    "import json\n",
    "import pandas as pd"
   ]
  },
  {
   "cell_type": "code",
   "execution_count": 2,
   "metadata": {
    "collapsed": true
   },
   "outputs": [],
   "source": [
    "data = pd.read_json('sizes.json', lines=True)\n"
   ]
  },
  {
   "cell_type": "code",
   "execution_count": 3,
   "metadata": {},
   "outputs": [
    {
     "data": {
      "text/html": [
       "<div>\n",
       "<style>\n",
       "    .dataframe thead tr:only-child th {\n",
       "        text-align: right;\n",
       "    }\n",
       "\n",
       "    .dataframe thead th {\n",
       "        text-align: left;\n",
       "    }\n",
       "\n",
       "    .dataframe tbody tr th {\n",
       "        vertical-align: top;\n",
       "    }\n",
       "</style>\n",
       "<table border=\"1\" class=\"dataframe\">\n",
       "  <thead>\n",
       "    <tr style=\"text-align: right;\">\n",
       "      <th></th>\n",
       "      <th>__v</th>\n",
       "      <th>_id</th>\n",
       "      <th>created_at</th>\n",
       "      <th>filter_label</th>\n",
       "      <th>label</th>\n",
       "      <th>old_label</th>\n",
       "      <th>updated_at</th>\n",
       "    </tr>\n",
       "  </thead>\n",
       "  <tbody>\n",
       "    <tr>\n",
       "      <th>0</th>\n",
       "      <td>0</td>\n",
       "      <td>{'$oid': '557abe8565950003006fefe7'}</td>\n",
       "      <td>{'$date': '2015-06-12T11:12:05.248Z'}</td>\n",
       "      <td>S</td>\n",
       "      <td>26</td>\n",
       "      <td>[26\\]</td>\n",
       "      <td>{'$date': '2015-07-07T16:29:11.868Z'}</td>\n",
       "    </tr>\n",
       "    <tr>\n",
       "      <th>1</th>\n",
       "      <td>0</td>\n",
       "      <td>{'$oid': '557abe8565950003006fefe5'}</td>\n",
       "      <td>{'$date': '2015-06-12T11:12:05.244Z'}</td>\n",
       "      <td>XS</td>\n",
       "      <td>24</td>\n",
       "      <td>[24, 24\\]</td>\n",
       "      <td>{'$date': '2015-07-07T16:27:03.743Z'}</td>\n",
       "    </tr>\n",
       "    <tr>\n",
       "      <th>2</th>\n",
       "      <td>0</td>\n",
       "      <td>{'$oid': '557abe8565950003006fefe8'}</td>\n",
       "      <td>{'$date': '2015-06-12T11:12:05.249Z'}</td>\n",
       "      <td>S</td>\n",
       "      <td>28</td>\n",
       "      <td>[28\\]</td>\n",
       "      <td>{'$date': '2015-07-07T16:36:22.139Z'}</td>\n",
       "    </tr>\n",
       "    <tr>\n",
       "      <th>3</th>\n",
       "      <td>0</td>\n",
       "      <td>{'$oid': '557abe8565950003006fefe6'}</td>\n",
       "      <td>{'$date': '2015-06-12T11:12:05.247Z'}</td>\n",
       "      <td>S</td>\n",
       "      <td>25</td>\n",
       "      <td>[25]</td>\n",
       "      <td>{'$date': '2015-07-07T16:29:03.370Z'}</td>\n",
       "    </tr>\n",
       "    <tr>\n",
       "      <th>4</th>\n",
       "      <td>0</td>\n",
       "      <td>{'$oid': '557abe8565950003006fefe9'}</td>\n",
       "      <td>{'$date': '2015-06-12T11:12:05.249Z'}</td>\n",
       "      <td>M</td>\n",
       "      <td>30</td>\n",
       "      <td>[30\\]</td>\n",
       "      <td>{'$date': '2015-07-07T16:44:25.382Z'}</td>\n",
       "    </tr>\n",
       "  </tbody>\n",
       "</table>\n",
       "</div>"
      ],
      "text/plain": [
       "   __v                                   _id  \\\n",
       "0    0  {'$oid': '557abe8565950003006fefe7'}   \n",
       "1    0  {'$oid': '557abe8565950003006fefe5'}   \n",
       "2    0  {'$oid': '557abe8565950003006fefe8'}   \n",
       "3    0  {'$oid': '557abe8565950003006fefe6'}   \n",
       "4    0  {'$oid': '557abe8565950003006fefe9'}   \n",
       "\n",
       "                              created_at filter_label label  old_label  \\\n",
       "0  {'$date': '2015-06-12T11:12:05.248Z'}            S    26      [26\\]   \n",
       "1  {'$date': '2015-06-12T11:12:05.244Z'}           XS    24  [24, 24\\]   \n",
       "2  {'$date': '2015-06-12T11:12:05.249Z'}            S    28      [28\\]   \n",
       "3  {'$date': '2015-06-12T11:12:05.247Z'}            S    25       [25]   \n",
       "4  {'$date': '2015-06-12T11:12:05.249Z'}            M    30      [30\\]   \n",
       "\n",
       "                              updated_at  \n",
       "0  {'$date': '2015-07-07T16:29:11.868Z'}  \n",
       "1  {'$date': '2015-07-07T16:27:03.743Z'}  \n",
       "2  {'$date': '2015-07-07T16:36:22.139Z'}  \n",
       "3  {'$date': '2015-07-07T16:29:03.370Z'}  \n",
       "4  {'$date': '2015-07-07T16:44:25.382Z'}  "
      ]
     },
     "execution_count": 3,
     "metadata": {},
     "output_type": "execute_result"
    }
   ],
   "source": [
    "data.head()"
   ]
  },
  {
   "cell_type": "code",
   "execution_count": 4,
   "metadata": {},
   "outputs": [
    {
     "name": "stdout",
     "output_type": "stream",
     "text": [
      "<class 'pandas.core.frame.DataFrame'>\n",
      "RangeIndex: 51210 entries, 0 to 51209\n",
      "Data columns (total 7 columns):\n",
      "__v             51210 non-null int64\n",
      "_id             51210 non-null object\n",
      "created_at      51210 non-null object\n",
      "filter_label    294 non-null object\n",
      "label           51210 non-null object\n",
      "old_label       51210 non-null object\n",
      "updated_at      51210 non-null object\n",
      "dtypes: int64(1), object(6)\n",
      "memory usage: 2.7+ MB\n"
     ]
    }
   ],
   "source": [
    "data.info()"
   ]
  },
  {
   "cell_type": "markdown",
   "metadata": {},
   "source": [
    "**Observations**\n",
    "- dataframe has 7 columns/ 51210 lines\n",
    "- filter_label column has only 294 entries, vs 51 210 lines\n",
    "- dataframe entries are objects which is not the most suitable type for data manipulation"
   ]
  },
  {
   "cell_type": "markdown",
   "metadata": {},
   "source": [
    "**Data frame columns - detailed view**"
   ]
  },
  {
   "cell_type": "code",
   "execution_count": 5,
   "metadata": {
    "collapsed": true
   },
   "outputs": [],
   "source": [
    "column_names=list(data)"
   ]
  },
  {
   "cell_type": "code",
   "execution_count": 6,
   "metadata": {
    "collapsed": true
   },
   "outputs": [],
   "source": [
    "column_types=[type(data._id[0]),\n",
    "type(data.__v[0]),\n",
    "type(data.created_at[0]),\n",
    "type(data.filter_label[0]),\n",
    "type(data.label[0]),\n",
    "type(data.old_label[0]),\n",
    "type(data.updated_at[0])]"
   ]
  },
  {
   "cell_type": "code",
   "execution_count": 7,
   "metadata": {},
   "outputs": [
    {
     "name": "stdout",
     "output_type": "stream",
     "text": [
      "__v <class 'dict'>\n",
      "_id <class 'numpy.int64'>\n",
      "created_at <class 'dict'>\n",
      "filter_label <class 'str'>\n",
      "label <class 'str'>\n",
      "old_label <class 'list'>\n",
      "updated_at <class 'dict'>\n"
     ]
    }
   ],
   "source": [
    "for i in range (0,len(column_names)):\n",
    "    print(column_names[i],column_types[i])"
   ]
  },
  {
   "cell_type": "markdown",
   "metadata": {},
   "source": [
    "** Step 1 - flatten the dataframe** "
   ]
  },
  {
   "cell_type": "markdown",
   "metadata": {},
   "source": [
    "1.1 Column **_if**: explore dictionary keys and values"
   ]
  },
  {
   "cell_type": "code",
   "execution_count": 8,
   "metadata": {
    "collapsed": true
   },
   "outputs": [],
   "source": [
    "keys=[]\n",
    "values=[]\n",
    "for index,row in data.iterrows():\n",
    "    item=row['_id']\n",
    "    keys.extend(item.keys())\n",
    "    values.extend(item.values())\n"
   ]
  },
  {
   "cell_type": "code",
   "execution_count": 9,
   "metadata": {
    "collapsed": true
   },
   "outputs": [],
   "source": [
    "unq_k=set(keys)"
   ]
  },
  {
   "cell_type": "code",
   "execution_count": 10,
   "metadata": {},
   "outputs": [
    {
     "data": {
      "text/plain": [
       "1"
      ]
     },
     "execution_count": 10,
     "metadata": {},
     "output_type": "execute_result"
    }
   ],
   "source": [
    "len(unq_k)"
   ]
  },
  {
   "cell_type": "code",
   "execution_count": 11,
   "metadata": {
    "collapsed": true
   },
   "outputs": [],
   "source": [
    "unq_v=set(values)"
   ]
  },
  {
   "cell_type": "code",
   "execution_count": 12,
   "metadata": {},
   "outputs": [
    {
     "data": {
      "text/plain": [
       "51210"
      ]
     },
     "execution_count": 12,
     "metadata": {},
     "output_type": "execute_result"
    }
   ],
   "source": [
    "len(unq_v)"
   ]
  },
  {
   "cell_type": "code",
   "execution_count": 202,
   "metadata": {
    "collapsed": true
   },
   "outputs": [],
   "source": [
    "for i in range (len(data)):\n",
    "    item1=data.iloc[0:,1]\n",
    "    break\n",
    "    "
   ]
  },
  {
   "cell_type": "code",
   "execution_count": 205,
   "metadata": {},
   "outputs": [
    {
     "data": {
      "text/plain": [
       "pandas.core.series.Series"
      ]
     },
     "execution_count": 205,
     "metadata": {},
     "output_type": "execute_result"
    }
   ],
   "source": [
    "type(item1)"
   ]
  },
  {
   "cell_type": "markdown",
   "metadata": {},
   "source": [
    "**Observations**\n",
    "- The keys are the same across all lines, therefore, can be removed, and only ID value can remain as item ID identifier"
   ]
  },
  {
   "cell_type": "code",
   "execution_count": 19,
   "metadata": {},
   "outputs": [
    {
     "ename": "AttributeError",
     "evalue": "'dict_values' object has no attribute 'values'",
     "output_type": "error",
     "traceback": [
      "\u001b[1;31m---------------------------------------------------------------------------\u001b[0m",
      "\u001b[1;31mAttributeError\u001b[0m                            Traceback (most recent call last)",
      "\u001b[1;32m<ipython-input-19-241b4160beae>\u001b[0m in \u001b[0;36m<module>\u001b[1;34m()\u001b[0m\n\u001b[0;32m      1\u001b[0m \u001b[1;32mfor\u001b[0m \u001b[0mindex\u001b[0m\u001b[1;33m,\u001b[0m\u001b[0mrow\u001b[0m \u001b[1;32min\u001b[0m \u001b[0mdata\u001b[0m\u001b[1;33m.\u001b[0m\u001b[0miterrows\u001b[0m\u001b[1;33m(\u001b[0m\u001b[1;33m)\u001b[0m\u001b[1;33m:\u001b[0m\u001b[1;33m\u001b[0m\u001b[0m\n\u001b[0;32m      2\u001b[0m     \u001b[0mitem\u001b[0m\u001b[1;33m=\u001b[0m\u001b[0mrow\u001b[0m\u001b[1;33m[\u001b[0m\u001b[1;34m'_id'\u001b[0m\u001b[1;33m]\u001b[0m\u001b[1;33m\u001b[0m\u001b[0m\n\u001b[1;32m----> 3\u001b[1;33m     \u001b[0mvalue\u001b[0m\u001b[1;33m=\u001b[0m\u001b[0mitem\u001b[0m\u001b[1;33m.\u001b[0m\u001b[0mvalues\u001b[0m\u001b[1;33m(\u001b[0m\u001b[1;33m)\u001b[0m\u001b[1;33m\u001b[0m\u001b[0m\n\u001b[0m\u001b[0;32m      4\u001b[0m     \u001b[0mprint\u001b[0m\u001b[1;33m(\u001b[0m\u001b[0mtype\u001b[0m\u001b[1;33m(\u001b[0m\u001b[0mvalue\u001b[0m\u001b[1;33m)\u001b[0m\u001b[1;33m)\u001b[0m\u001b[1;33m\u001b[0m\u001b[0m\n\u001b[0;32m      5\u001b[0m     \u001b[0mdata\u001b[0m\u001b[1;33m.\u001b[0m\u001b[0mloc\u001b[0m\u001b[1;33m[\u001b[0m\u001b[0mdata\u001b[0m\u001b[1;33m.\u001b[0m\u001b[0mindex\u001b[0m\u001b[1;33m[\u001b[0m\u001b[0mindex\u001b[0m\u001b[1;33m]\u001b[0m\u001b[1;33m,\u001b[0m \u001b[1;34m'_id'\u001b[0m\u001b[1;33m]\u001b[0m\u001b[1;33m=\u001b[0m\u001b[0mvalue\u001b[0m\u001b[1;33m\u001b[0m\u001b[0m\n",
      "\u001b[1;31mAttributeError\u001b[0m: 'dict_values' object has no attribute 'values'"
     ]
    }
   ],
   "source": [
    "for index,row in data.iterrows():\n",
    "    item=row['_id']\n",
    "    value=item.values()\n",
    "    print(type(value))\n",
    "    data.loc[data.index[index], '_id']=value\n",
    "    break\n"
   ]
  },
  {
   "cell_type": "code",
   "execution_count": 14,
   "metadata": {},
   "outputs": [
    {
     "data": {
      "text/html": [
       "<div>\n",
       "<style>\n",
       "    .dataframe thead tr:only-child th {\n",
       "        text-align: right;\n",
       "    }\n",
       "\n",
       "    .dataframe thead th {\n",
       "        text-align: left;\n",
       "    }\n",
       "\n",
       "    .dataframe tbody tr th {\n",
       "        vertical-align: top;\n",
       "    }\n",
       "</style>\n",
       "<table border=\"1\" class=\"dataframe\">\n",
       "  <thead>\n",
       "    <tr style=\"text-align: right;\">\n",
       "      <th></th>\n",
       "      <th>__v</th>\n",
       "      <th>_id</th>\n",
       "      <th>created_at</th>\n",
       "      <th>filter_label</th>\n",
       "      <th>label</th>\n",
       "      <th>old_label</th>\n",
       "      <th>updated_at</th>\n",
       "    </tr>\n",
       "  </thead>\n",
       "  <tbody>\n",
       "    <tr>\n",
       "      <th>0</th>\n",
       "      <td>0</td>\n",
       "      <td>(557abe8565950003006fefe7)</td>\n",
       "      <td>{'$date': '2015-06-12T11:12:05.248Z'}</td>\n",
       "      <td>S</td>\n",
       "      <td>26</td>\n",
       "      <td>[26\\]</td>\n",
       "      <td>{'$date': '2015-07-07T16:29:11.868Z'}</td>\n",
       "    </tr>\n",
       "    <tr>\n",
       "      <th>1</th>\n",
       "      <td>0</td>\n",
       "      <td>{'$oid': '557abe8565950003006fefe5'}</td>\n",
       "      <td>{'$date': '2015-06-12T11:12:05.244Z'}</td>\n",
       "      <td>XS</td>\n",
       "      <td>24</td>\n",
       "      <td>[24, 24\\]</td>\n",
       "      <td>{'$date': '2015-07-07T16:27:03.743Z'}</td>\n",
       "    </tr>\n",
       "    <tr>\n",
       "      <th>2</th>\n",
       "      <td>0</td>\n",
       "      <td>{'$oid': '557abe8565950003006fefe8'}</td>\n",
       "      <td>{'$date': '2015-06-12T11:12:05.249Z'}</td>\n",
       "      <td>S</td>\n",
       "      <td>28</td>\n",
       "      <td>[28\\]</td>\n",
       "      <td>{'$date': '2015-07-07T16:36:22.139Z'}</td>\n",
       "    </tr>\n",
       "    <tr>\n",
       "      <th>3</th>\n",
       "      <td>0</td>\n",
       "      <td>{'$oid': '557abe8565950003006fefe6'}</td>\n",
       "      <td>{'$date': '2015-06-12T11:12:05.247Z'}</td>\n",
       "      <td>S</td>\n",
       "      <td>25</td>\n",
       "      <td>[25]</td>\n",
       "      <td>{'$date': '2015-07-07T16:29:03.370Z'}</td>\n",
       "    </tr>\n",
       "    <tr>\n",
       "      <th>4</th>\n",
       "      <td>0</td>\n",
       "      <td>{'$oid': '557abe8565950003006fefe9'}</td>\n",
       "      <td>{'$date': '2015-06-12T11:12:05.249Z'}</td>\n",
       "      <td>M</td>\n",
       "      <td>30</td>\n",
       "      <td>[30\\]</td>\n",
       "      <td>{'$date': '2015-07-07T16:44:25.382Z'}</td>\n",
       "    </tr>\n",
       "  </tbody>\n",
       "</table>\n",
       "</div>"
      ],
      "text/plain": [
       "   __v                                   _id  \\\n",
       "0    0            (557abe8565950003006fefe7)   \n",
       "1    0  {'$oid': '557abe8565950003006fefe5'}   \n",
       "2    0  {'$oid': '557abe8565950003006fefe8'}   \n",
       "3    0  {'$oid': '557abe8565950003006fefe6'}   \n",
       "4    0  {'$oid': '557abe8565950003006fefe9'}   \n",
       "\n",
       "                              created_at filter_label label  old_label  \\\n",
       "0  {'$date': '2015-06-12T11:12:05.248Z'}            S    26      [26\\]   \n",
       "1  {'$date': '2015-06-12T11:12:05.244Z'}           XS    24  [24, 24\\]   \n",
       "2  {'$date': '2015-06-12T11:12:05.249Z'}            S    28      [28\\]   \n",
       "3  {'$date': '2015-06-12T11:12:05.247Z'}            S    25       [25]   \n",
       "4  {'$date': '2015-06-12T11:12:05.249Z'}            M    30      [30\\]   \n",
       "\n",
       "                              updated_at  \n",
       "0  {'$date': '2015-07-07T16:29:11.868Z'}  \n",
       "1  {'$date': '2015-07-07T16:27:03.743Z'}  \n",
       "2  {'$date': '2015-07-07T16:36:22.139Z'}  \n",
       "3  {'$date': '2015-07-07T16:29:03.370Z'}  \n",
       "4  {'$date': '2015-07-07T16:44:25.382Z'}  "
      ]
     },
     "execution_count": 14,
     "metadata": {},
     "output_type": "execute_result"
    }
   ],
   "source": [
    "data.head()"
   ]
  },
  {
   "cell_type": "code",
   "execution_count": 18,
   "metadata": {},
   "outputs": [
    {
     "data": {
      "text/plain": [
       "dict_values"
      ]
     },
     "execution_count": 18,
     "metadata": {},
     "output_type": "execute_result"
    }
   ],
   "source": [
    "type(data.iloc[0,1])"
   ]
  },
  {
   "cell_type": "code",
   "execution_count": null,
   "metadata": {
    "collapsed": true
   },
   "outputs": [],
   "source": []
  }
 ],
 "metadata": {
  "kernelspec": {
   "display_name": "Python 3",
   "language": "python",
   "name": "python3"
  },
  "language_info": {
   "codemirror_mode": {
    "name": "ipython",
    "version": 3
   },
   "file_extension": ".py",
   "mimetype": "text/x-python",
   "name": "python",
   "nbconvert_exporter": "python",
   "pygments_lexer": "ipython3",
   "version": "3.6.1"
  }
 },
 "nbformat": 4,
 "nbformat_minor": 2
}
