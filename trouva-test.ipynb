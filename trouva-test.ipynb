{
 "cells": [
  {
   "cell_type": "code",
   "execution_count": 22,
   "metadata": {
    "collapsed": true
   },
   "outputs": [],
   "source": [
    "import json\n",
    "import pandas as pd"
   ]
  },
  {
   "cell_type": "code",
   "execution_count": 23,
   "metadata": {
    "collapsed": true
   },
   "outputs": [],
   "source": [
    "data = pd.read_json('sizes.json', lines=True)\n"
   ]
  },
  {
   "cell_type": "code",
   "execution_count": 24,
   "metadata": {},
   "outputs": [
    {
     "data": {
      "text/html": [
       "<div>\n",
       "<style>\n",
       "    .dataframe thead tr:only-child th {\n",
       "        text-align: right;\n",
       "    }\n",
       "\n",
       "    .dataframe thead th {\n",
       "        text-align: left;\n",
       "    }\n",
       "\n",
       "    .dataframe tbody tr th {\n",
       "        vertical-align: top;\n",
       "    }\n",
       "</style>\n",
       "<table border=\"1\" class=\"dataframe\">\n",
       "  <thead>\n",
       "    <tr style=\"text-align: right;\">\n",
       "      <th></th>\n",
       "      <th>__v</th>\n",
       "      <th>_id</th>\n",
       "      <th>created_at</th>\n",
       "      <th>filter_label</th>\n",
       "      <th>label</th>\n",
       "      <th>old_label</th>\n",
       "      <th>updated_at</th>\n",
       "    </tr>\n",
       "  </thead>\n",
       "  <tbody>\n",
       "    <tr>\n",
       "      <th>0</th>\n",
       "      <td>0</td>\n",
       "      <td>{'$oid': '557abe8565950003006fefe7'}</td>\n",
       "      <td>{'$date': '2015-06-12T11:12:05.248Z'}</td>\n",
       "      <td>S</td>\n",
       "      <td>26</td>\n",
       "      <td>[26\\]</td>\n",
       "      <td>{'$date': '2015-07-07T16:29:11.868Z'}</td>\n",
       "    </tr>\n",
       "    <tr>\n",
       "      <th>1</th>\n",
       "      <td>0</td>\n",
       "      <td>{'$oid': '557abe8565950003006fefe5'}</td>\n",
       "      <td>{'$date': '2015-06-12T11:12:05.244Z'}</td>\n",
       "      <td>XS</td>\n",
       "      <td>24</td>\n",
       "      <td>[24, 24\\]</td>\n",
       "      <td>{'$date': '2015-07-07T16:27:03.743Z'}</td>\n",
       "    </tr>\n",
       "    <tr>\n",
       "      <th>2</th>\n",
       "      <td>0</td>\n",
       "      <td>{'$oid': '557abe8565950003006fefe8'}</td>\n",
       "      <td>{'$date': '2015-06-12T11:12:05.249Z'}</td>\n",
       "      <td>S</td>\n",
       "      <td>28</td>\n",
       "      <td>[28\\]</td>\n",
       "      <td>{'$date': '2015-07-07T16:36:22.139Z'}</td>\n",
       "    </tr>\n",
       "    <tr>\n",
       "      <th>3</th>\n",
       "      <td>0</td>\n",
       "      <td>{'$oid': '557abe8565950003006fefe6'}</td>\n",
       "      <td>{'$date': '2015-06-12T11:12:05.247Z'}</td>\n",
       "      <td>S</td>\n",
       "      <td>25</td>\n",
       "      <td>[25]</td>\n",
       "      <td>{'$date': '2015-07-07T16:29:03.370Z'}</td>\n",
       "    </tr>\n",
       "    <tr>\n",
       "      <th>4</th>\n",
       "      <td>0</td>\n",
       "      <td>{'$oid': '557abe8565950003006fefe9'}</td>\n",
       "      <td>{'$date': '2015-06-12T11:12:05.249Z'}</td>\n",
       "      <td>M</td>\n",
       "      <td>30</td>\n",
       "      <td>[30\\]</td>\n",
       "      <td>{'$date': '2015-07-07T16:44:25.382Z'}</td>\n",
       "    </tr>\n",
       "  </tbody>\n",
       "</table>\n",
       "</div>"
      ],
      "text/plain": [
       "   __v                                   _id  \\\n",
       "0    0  {'$oid': '557abe8565950003006fefe7'}   \n",
       "1    0  {'$oid': '557abe8565950003006fefe5'}   \n",
       "2    0  {'$oid': '557abe8565950003006fefe8'}   \n",
       "3    0  {'$oid': '557abe8565950003006fefe6'}   \n",
       "4    0  {'$oid': '557abe8565950003006fefe9'}   \n",
       "\n",
       "                              created_at filter_label label  old_label  \\\n",
       "0  {'$date': '2015-06-12T11:12:05.248Z'}            S    26      [26\\]   \n",
       "1  {'$date': '2015-06-12T11:12:05.244Z'}           XS    24  [24, 24\\]   \n",
       "2  {'$date': '2015-06-12T11:12:05.249Z'}            S    28      [28\\]   \n",
       "3  {'$date': '2015-06-12T11:12:05.247Z'}            S    25       [25]   \n",
       "4  {'$date': '2015-06-12T11:12:05.249Z'}            M    30      [30\\]   \n",
       "\n",
       "                              updated_at  \n",
       "0  {'$date': '2015-07-07T16:29:11.868Z'}  \n",
       "1  {'$date': '2015-07-07T16:27:03.743Z'}  \n",
       "2  {'$date': '2015-07-07T16:36:22.139Z'}  \n",
       "3  {'$date': '2015-07-07T16:29:03.370Z'}  \n",
       "4  {'$date': '2015-07-07T16:44:25.382Z'}  "
      ]
     },
     "execution_count": 24,
     "metadata": {},
     "output_type": "execute_result"
    }
   ],
   "source": [
    "data.head()"
   ]
  },
  {
   "cell_type": "code",
   "execution_count": 25,
   "metadata": {},
   "outputs": [
    {
     "name": "stdout",
     "output_type": "stream",
     "text": [
      "<class 'pandas.core.frame.DataFrame'>\n",
      "RangeIndex: 51210 entries, 0 to 51209\n",
      "Data columns (total 7 columns):\n",
      "__v             51210 non-null int64\n",
      "_id             51210 non-null object\n",
      "created_at      51210 non-null object\n",
      "filter_label    294 non-null object\n",
      "label           51210 non-null object\n",
      "old_label       51210 non-null object\n",
      "updated_at      51210 non-null object\n",
      "dtypes: int64(1), object(6)\n",
      "memory usage: 2.7+ MB\n"
     ]
    }
   ],
   "source": [
    "data.info()"
   ]
  },
  {
   "cell_type": "markdown",
   "metadata": {},
   "source": [
    "**Observations**\n",
    "- dataframe has 7 columns/ 51210 lines\n",
    "- filter_label column has only 294 entries, vs 51 210 lines\n",
    "- dataframe entries are objects which is not the most suitable type for data manipulation"
   ]
  },
  {
   "cell_type": "markdown",
   "metadata": {},
   "source": [
    "**Data frame columns - detailed view**"
   ]
  },
  {
   "cell_type": "code",
   "execution_count": 26,
   "metadata": {
    "collapsed": true
   },
   "outputs": [],
   "source": [
    "column_names=list(data)"
   ]
  },
  {
   "cell_type": "code",
   "execution_count": 27,
   "metadata": {
    "collapsed": true
   },
   "outputs": [],
   "source": [
    "column_types=[type(data._id[0]),\n",
    "type(data.__v[0]),\n",
    "type(data.created_at[0]),\n",
    "type(data.filter_label[0]),\n",
    "type(data.label[0]),\n",
    "type(data.old_label[0]),\n",
    "type(data.updated_at[0])]"
   ]
  },
  {
   "cell_type": "code",
   "execution_count": 28,
   "metadata": {},
   "outputs": [
    {
     "name": "stdout",
     "output_type": "stream",
     "text": [
      "__v <class 'dict'>\n",
      "_id <class 'numpy.int64'>\n",
      "created_at <class 'dict'>\n",
      "filter_label <class 'str'>\n",
      "label <class 'str'>\n",
      "old_label <class 'list'>\n",
      "updated_at <class 'dict'>\n"
     ]
    }
   ],
   "source": [
    "for i in range (0,len(column_names)):\n",
    "    print(column_names[i],column_types[i])"
   ]
  },
  {
   "cell_type": "markdown",
   "metadata": {},
   "source": [
    "** Step 1 - flatten the dataframe** "
   ]
  },
  {
   "cell_type": "markdown",
   "metadata": {},
   "source": [
    "1.1 Column **_if**: explore dictionary keys and values"
   ]
  },
  {
   "cell_type": "code",
   "execution_count": 29,
   "metadata": {
    "collapsed": true
   },
   "outputs": [],
   "source": [
    "col_name='_id'"
   ]
  },
  {
   "cell_type": "code",
   "execution_count": 30,
   "metadata": {
    "collapsed": true
   },
   "outputs": [],
   "source": [
    "def flatten_dic(df,col_name):\n",
    "    keys=[]\n",
    "    values=[]\n",
    "    for index, row in data.iterrows():\n",
    "        item=row[col_name]\n",
    "        keys.extend(item.keys())\n",
    "        values.extend(item.values())\n",
    "    return keys, values"
   ]
  },
  {
   "cell_type": "code",
   "execution_count": 31,
   "metadata": {},
   "outputs": [],
   "source": [
    "keys_id, values_id= flatten_dic(data, col_name)"
   ]
  },
  {
   "cell_type": "code",
   "execution_count": 32,
   "metadata": {
    "collapsed": true
   },
   "outputs": [],
   "source": [
    "def check_unique(item):\n",
    "    unq_items=set(item)\n",
    "    return len(unq_items)"
   ]
  },
  {
   "cell_type": "code",
   "execution_count": 33,
   "metadata": {},
   "outputs": [
    {
     "name": "stdout",
     "output_type": "stream",
     "text": [
      "1\n"
     ]
    }
   ],
   "source": [
    "print(check_unique(keys_id))"
   ]
  },
  {
   "cell_type": "code",
   "execution_count": 34,
   "metadata": {},
   "outputs": [
    {
     "name": "stdout",
     "output_type": "stream",
     "text": [
      "51210\n"
     ]
    }
   ],
   "source": [
    "print(check_unique(values_id))"
   ]
  },
  {
   "cell_type": "markdown",
   "metadata": {},
   "source": [
    "**Observations**\n",
    "- The keys are the same across all lines, therefore, can be removed, and only ID value can remain as item ID identifier"
   ]
  },
  {
   "cell_type": "code",
   "execution_count": 35,
   "metadata": {},
   "outputs": [],
   "source": [
    "def clean_col(data,col_name):\n",
    "    for index,row in data.iterrows():\n",
    "        item=row[col_name]\n",
    "        value=list(item.values())    \n",
    "        data.loc[data.index[index], col_name]=str(value[0])\n",
    "    return data\n",
    " \n"
   ]
  },
  {
   "cell_type": "code",
   "execution_count": 37,
   "metadata": {},
   "outputs": [
    {
     "ename": "AttributeError",
     "evalue": "'str' object has no attribute 'values'",
     "output_type": "error",
     "traceback": [
      "\u001b[1;31m---------------------------------------------------------------------------\u001b[0m",
      "\u001b[1;31mAttributeError\u001b[0m                            Traceback (most recent call last)",
      "\u001b[1;32m<ipython-input-37-9ceaf01f8f2a>\u001b[0m in \u001b[0;36m<module>\u001b[1;34m()\u001b[0m\n\u001b[1;32m----> 1\u001b[1;33m \u001b[0mclean_col\u001b[0m\u001b[1;33m(\u001b[0m\u001b[0mdata\u001b[0m\u001b[1;33m,\u001b[0m \u001b[1;34m'_id'\u001b[0m\u001b[1;33m)\u001b[0m\u001b[1;33m\u001b[0m\u001b[0m\n\u001b[0m",
      "\u001b[1;32m<ipython-input-35-1be4197dc376>\u001b[0m in \u001b[0;36mclean_col\u001b[1;34m(data, col_name)\u001b[0m\n\u001b[0;32m      2\u001b[0m     \u001b[1;32mfor\u001b[0m \u001b[0mindex\u001b[0m\u001b[1;33m,\u001b[0m\u001b[0mrow\u001b[0m \u001b[1;32min\u001b[0m \u001b[0mdata\u001b[0m\u001b[1;33m.\u001b[0m\u001b[0miterrows\u001b[0m\u001b[1;33m(\u001b[0m\u001b[1;33m)\u001b[0m\u001b[1;33m:\u001b[0m\u001b[1;33m\u001b[0m\u001b[0m\n\u001b[0;32m      3\u001b[0m         \u001b[0mitem\u001b[0m\u001b[1;33m=\u001b[0m\u001b[0mrow\u001b[0m\u001b[1;33m[\u001b[0m\u001b[0mcol_name\u001b[0m\u001b[1;33m]\u001b[0m\u001b[1;33m\u001b[0m\u001b[0m\n\u001b[1;32m----> 4\u001b[1;33m         \u001b[0mvalue\u001b[0m\u001b[1;33m=\u001b[0m\u001b[0mlist\u001b[0m\u001b[1;33m(\u001b[0m\u001b[0mitem\u001b[0m\u001b[1;33m.\u001b[0m\u001b[0mvalues\u001b[0m\u001b[1;33m(\u001b[0m\u001b[1;33m)\u001b[0m\u001b[1;33m)\u001b[0m\u001b[1;33m\u001b[0m\u001b[0m\n\u001b[0m\u001b[0;32m      5\u001b[0m         \u001b[0mdata\u001b[0m\u001b[1;33m.\u001b[0m\u001b[0mloc\u001b[0m\u001b[1;33m[\u001b[0m\u001b[0mdata\u001b[0m\u001b[1;33m.\u001b[0m\u001b[0mindex\u001b[0m\u001b[1;33m[\u001b[0m\u001b[0mindex\u001b[0m\u001b[1;33m]\u001b[0m\u001b[1;33m,\u001b[0m \u001b[0mcol_name\u001b[0m\u001b[1;33m]\u001b[0m\u001b[1;33m=\u001b[0m\u001b[0mstr\u001b[0m\u001b[1;33m(\u001b[0m\u001b[0mvalue\u001b[0m\u001b[1;33m[\u001b[0m\u001b[1;36m0\u001b[0m\u001b[1;33m]\u001b[0m\u001b[1;33m)\u001b[0m\u001b[1;33m\u001b[0m\u001b[0m\n\u001b[0;32m      6\u001b[0m     \u001b[1;32mreturn\u001b[0m \u001b[0mdata\u001b[0m\u001b[1;33m\u001b[0m\u001b[0m\n",
      "\u001b[1;31mAttributeError\u001b[0m: 'str' object has no attribute 'values'"
     ]
    }
   ],
   "source": [
    "clean_col(data, '_id')"
   ]
  },
  {
   "cell_type": "code",
   "execution_count": 39,
   "metadata": {},
   "outputs": [
    {
     "data": {
      "text/html": [
       "<div>\n",
       "<style>\n",
       "    .dataframe thead tr:only-child th {\n",
       "        text-align: right;\n",
       "    }\n",
       "\n",
       "    .dataframe thead th {\n",
       "        text-align: left;\n",
       "    }\n",
       "\n",
       "    .dataframe tbody tr th {\n",
       "        vertical-align: top;\n",
       "    }\n",
       "</style>\n",
       "<table border=\"1\" class=\"dataframe\">\n",
       "  <thead>\n",
       "    <tr style=\"text-align: right;\">\n",
       "      <th></th>\n",
       "      <th>__v</th>\n",
       "      <th>_id</th>\n",
       "      <th>created_at</th>\n",
       "      <th>filter_label</th>\n",
       "      <th>label</th>\n",
       "      <th>old_label</th>\n",
       "      <th>updated_at</th>\n",
       "    </tr>\n",
       "  </thead>\n",
       "  <tbody>\n",
       "    <tr>\n",
       "      <th>0</th>\n",
       "      <td>0</td>\n",
       "      <td>557abe8565950003006fefe7</td>\n",
       "      <td>{'$date': '2015-06-12T11:12:05.248Z'}</td>\n",
       "      <td>S</td>\n",
       "      <td>26</td>\n",
       "      <td>[26\\]</td>\n",
       "      <td>{'$date': '2015-07-07T16:29:11.868Z'}</td>\n",
       "    </tr>\n",
       "    <tr>\n",
       "      <th>1</th>\n",
       "      <td>0</td>\n",
       "      <td>557abe8565950003006fefe5</td>\n",
       "      <td>{'$date': '2015-06-12T11:12:05.244Z'}</td>\n",
       "      <td>XS</td>\n",
       "      <td>24</td>\n",
       "      <td>[24, 24\\]</td>\n",
       "      <td>{'$date': '2015-07-07T16:27:03.743Z'}</td>\n",
       "    </tr>\n",
       "    <tr>\n",
       "      <th>2</th>\n",
       "      <td>0</td>\n",
       "      <td>557abe8565950003006fefe8</td>\n",
       "      <td>{'$date': '2015-06-12T11:12:05.249Z'}</td>\n",
       "      <td>S</td>\n",
       "      <td>28</td>\n",
       "      <td>[28\\]</td>\n",
       "      <td>{'$date': '2015-07-07T16:36:22.139Z'}</td>\n",
       "    </tr>\n",
       "    <tr>\n",
       "      <th>3</th>\n",
       "      <td>0</td>\n",
       "      <td>557abe8565950003006fefe6</td>\n",
       "      <td>{'$date': '2015-06-12T11:12:05.247Z'}</td>\n",
       "      <td>S</td>\n",
       "      <td>25</td>\n",
       "      <td>[25]</td>\n",
       "      <td>{'$date': '2015-07-07T16:29:03.370Z'}</td>\n",
       "    </tr>\n",
       "    <tr>\n",
       "      <th>4</th>\n",
       "      <td>0</td>\n",
       "      <td>557abe8565950003006fefe9</td>\n",
       "      <td>{'$date': '2015-06-12T11:12:05.249Z'}</td>\n",
       "      <td>M</td>\n",
       "      <td>30</td>\n",
       "      <td>[30\\]</td>\n",
       "      <td>{'$date': '2015-07-07T16:44:25.382Z'}</td>\n",
       "    </tr>\n",
       "  </tbody>\n",
       "</table>\n",
       "</div>"
      ],
      "text/plain": [
       "   __v                       _id                             created_at  \\\n",
       "0    0  557abe8565950003006fefe7  {'$date': '2015-06-12T11:12:05.248Z'}   \n",
       "1    0  557abe8565950003006fefe5  {'$date': '2015-06-12T11:12:05.244Z'}   \n",
       "2    0  557abe8565950003006fefe8  {'$date': '2015-06-12T11:12:05.249Z'}   \n",
       "3    0  557abe8565950003006fefe6  {'$date': '2015-06-12T11:12:05.247Z'}   \n",
       "4    0  557abe8565950003006fefe9  {'$date': '2015-06-12T11:12:05.249Z'}   \n",
       "\n",
       "  filter_label label  old_label                             updated_at  \n",
       "0            S    26      [26\\]  {'$date': '2015-07-07T16:29:11.868Z'}  \n",
       "1           XS    24  [24, 24\\]  {'$date': '2015-07-07T16:27:03.743Z'}  \n",
       "2            S    28      [28\\]  {'$date': '2015-07-07T16:36:22.139Z'}  \n",
       "3            S    25       [25]  {'$date': '2015-07-07T16:29:03.370Z'}  \n",
       "4            M    30      [30\\]  {'$date': '2015-07-07T16:44:25.382Z'}  "
      ]
     },
     "execution_count": 39,
     "metadata": {},
     "output_type": "execute_result"
    }
   ],
   "source": [
    "data.head()"
   ]
  },
  {
   "cell_type": "code",
   "execution_count": 41,
   "metadata": {
    "collapsed": true
   },
   "outputs": [],
   "source": [
    "col_name2='created_at'"
   ]
  },
  {
   "cell_type": "code",
   "execution_count": 42,
   "metadata": {
    "collapsed": true
   },
   "outputs": [],
   "source": [
    "keys_cr_at, values_cr_at=flatten_dic(data,col_name2)"
   ]
  },
  {
   "cell_type": "code",
   "execution_count": 43,
   "metadata": {},
   "outputs": [
    {
     "name": "stdout",
     "output_type": "stream",
     "text": [
      "1\n"
     ]
    }
   ],
   "source": [
    "print(check_unique(keys_cr_at))"
   ]
  },
  {
   "cell_type": "code",
   "execution_count": 44,
   "metadata": {},
   "outputs": [
    {
     "name": "stdout",
     "output_type": "stream",
     "text": [
      "43535\n"
     ]
    }
   ],
   "source": [
    "print(check_unique(values_cr_at))"
   ]
  },
  {
   "cell_type": "code",
   "execution_count": 45,
   "metadata": {
    "collapsed": true
   },
   "outputs": [],
   "source": [
    "### observation: there are 43 535 craeted_at values, less than lines in the DF, therefore, we can assume this column has nan values "
   ]
  },
  {
   "cell_type": "code",
   "execution_count": 47,
   "metadata": {},
   "outputs": [
    {
     "ename": "AttributeError",
     "evalue": "'str' object has no attribute 'values'",
     "output_type": "error",
     "traceback": [
      "\u001b[1;31m---------------------------------------------------------------------------\u001b[0m",
      "\u001b[1;31mAttributeError\u001b[0m                            Traceback (most recent call last)",
      "\u001b[1;32m<ipython-input-47-b4310553a87c>\u001b[0m in \u001b[0;36m<module>\u001b[1;34m()\u001b[0m\n\u001b[1;32m----> 1\u001b[1;33m \u001b[0mclean_col\u001b[0m\u001b[1;33m(\u001b[0m\u001b[0mdata\u001b[0m\u001b[1;33m,\u001b[0m \u001b[0mcol_name2\u001b[0m\u001b[1;33m)\u001b[0m\u001b[1;33m\u001b[0m\u001b[0m\n\u001b[0m",
      "\u001b[1;32m<ipython-input-35-1be4197dc376>\u001b[0m in \u001b[0;36mclean_col\u001b[1;34m(data, col_name)\u001b[0m\n\u001b[0;32m      2\u001b[0m     \u001b[1;32mfor\u001b[0m \u001b[0mindex\u001b[0m\u001b[1;33m,\u001b[0m\u001b[0mrow\u001b[0m \u001b[1;32min\u001b[0m \u001b[0mdata\u001b[0m\u001b[1;33m.\u001b[0m\u001b[0miterrows\u001b[0m\u001b[1;33m(\u001b[0m\u001b[1;33m)\u001b[0m\u001b[1;33m:\u001b[0m\u001b[1;33m\u001b[0m\u001b[0m\n\u001b[0;32m      3\u001b[0m         \u001b[0mitem\u001b[0m\u001b[1;33m=\u001b[0m\u001b[0mrow\u001b[0m\u001b[1;33m[\u001b[0m\u001b[0mcol_name\u001b[0m\u001b[1;33m]\u001b[0m\u001b[1;33m\u001b[0m\u001b[0m\n\u001b[1;32m----> 4\u001b[1;33m         \u001b[0mvalue\u001b[0m\u001b[1;33m=\u001b[0m\u001b[0mlist\u001b[0m\u001b[1;33m(\u001b[0m\u001b[0mitem\u001b[0m\u001b[1;33m.\u001b[0m\u001b[0mvalues\u001b[0m\u001b[1;33m(\u001b[0m\u001b[1;33m)\u001b[0m\u001b[1;33m)\u001b[0m\u001b[1;33m\u001b[0m\u001b[0m\n\u001b[0m\u001b[0;32m      5\u001b[0m         \u001b[0mdata\u001b[0m\u001b[1;33m.\u001b[0m\u001b[0mloc\u001b[0m\u001b[1;33m[\u001b[0m\u001b[0mdata\u001b[0m\u001b[1;33m.\u001b[0m\u001b[0mindex\u001b[0m\u001b[1;33m[\u001b[0m\u001b[0mindex\u001b[0m\u001b[1;33m]\u001b[0m\u001b[1;33m,\u001b[0m \u001b[0mcol_name\u001b[0m\u001b[1;33m]\u001b[0m\u001b[1;33m=\u001b[0m\u001b[0mstr\u001b[0m\u001b[1;33m(\u001b[0m\u001b[0mvalue\u001b[0m\u001b[1;33m[\u001b[0m\u001b[1;36m0\u001b[0m\u001b[1;33m]\u001b[0m\u001b[1;33m)\u001b[0m\u001b[1;33m\u001b[0m\u001b[0m\n\u001b[0;32m      6\u001b[0m     \u001b[1;32mreturn\u001b[0m \u001b[0mdata\u001b[0m\u001b[1;33m\u001b[0m\u001b[0m\n",
      "\u001b[1;31mAttributeError\u001b[0m: 'str' object has no attribute 'values'"
     ]
    }
   ],
   "source": [
    "clean_col(data, col_name2)"
   ]
  },
  {
   "cell_type": "code",
   "execution_count": 48,
   "metadata": {},
   "outputs": [
    {
     "data": {
      "text/html": [
       "<div>\n",
       "<style>\n",
       "    .dataframe thead tr:only-child th {\n",
       "        text-align: right;\n",
       "    }\n",
       "\n",
       "    .dataframe thead th {\n",
       "        text-align: left;\n",
       "    }\n",
       "\n",
       "    .dataframe tbody tr th {\n",
       "        vertical-align: top;\n",
       "    }\n",
       "</style>\n",
       "<table border=\"1\" class=\"dataframe\">\n",
       "  <thead>\n",
       "    <tr style=\"text-align: right;\">\n",
       "      <th></th>\n",
       "      <th>__v</th>\n",
       "      <th>_id</th>\n",
       "      <th>created_at</th>\n",
       "      <th>filter_label</th>\n",
       "      <th>label</th>\n",
       "      <th>old_label</th>\n",
       "      <th>updated_at</th>\n",
       "    </tr>\n",
       "  </thead>\n",
       "  <tbody>\n",
       "    <tr>\n",
       "      <th>0</th>\n",
       "      <td>0</td>\n",
       "      <td>557abe8565950003006fefe7</td>\n",
       "      <td>2015-06-12T11:12:05.248Z</td>\n",
       "      <td>S</td>\n",
       "      <td>26</td>\n",
       "      <td>[26\\]</td>\n",
       "      <td>{'$date': '2015-07-07T16:29:11.868Z'}</td>\n",
       "    </tr>\n",
       "    <tr>\n",
       "      <th>1</th>\n",
       "      <td>0</td>\n",
       "      <td>557abe8565950003006fefe5</td>\n",
       "      <td>2015-06-12T11:12:05.244Z</td>\n",
       "      <td>XS</td>\n",
       "      <td>24</td>\n",
       "      <td>[24, 24\\]</td>\n",
       "      <td>{'$date': '2015-07-07T16:27:03.743Z'}</td>\n",
       "    </tr>\n",
       "    <tr>\n",
       "      <th>2</th>\n",
       "      <td>0</td>\n",
       "      <td>557abe8565950003006fefe8</td>\n",
       "      <td>2015-06-12T11:12:05.249Z</td>\n",
       "      <td>S</td>\n",
       "      <td>28</td>\n",
       "      <td>[28\\]</td>\n",
       "      <td>{'$date': '2015-07-07T16:36:22.139Z'}</td>\n",
       "    </tr>\n",
       "    <tr>\n",
       "      <th>3</th>\n",
       "      <td>0</td>\n",
       "      <td>557abe8565950003006fefe6</td>\n",
       "      <td>2015-06-12T11:12:05.247Z</td>\n",
       "      <td>S</td>\n",
       "      <td>25</td>\n",
       "      <td>[25]</td>\n",
       "      <td>{'$date': '2015-07-07T16:29:03.370Z'}</td>\n",
       "    </tr>\n",
       "    <tr>\n",
       "      <th>4</th>\n",
       "      <td>0</td>\n",
       "      <td>557abe8565950003006fefe9</td>\n",
       "      <td>2015-06-12T11:12:05.249Z</td>\n",
       "      <td>M</td>\n",
       "      <td>30</td>\n",
       "      <td>[30\\]</td>\n",
       "      <td>{'$date': '2015-07-07T16:44:25.382Z'}</td>\n",
       "    </tr>\n",
       "  </tbody>\n",
       "</table>\n",
       "</div>"
      ],
      "text/plain": [
       "   __v                       _id                created_at filter_label label  \\\n",
       "0    0  557abe8565950003006fefe7  2015-06-12T11:12:05.248Z            S    26   \n",
       "1    0  557abe8565950003006fefe5  2015-06-12T11:12:05.244Z           XS    24   \n",
       "2    0  557abe8565950003006fefe8  2015-06-12T11:12:05.249Z            S    28   \n",
       "3    0  557abe8565950003006fefe6  2015-06-12T11:12:05.247Z            S    25   \n",
       "4    0  557abe8565950003006fefe9  2015-06-12T11:12:05.249Z            M    30   \n",
       "\n",
       "   old_label                             updated_at  \n",
       "0      [26\\]  {'$date': '2015-07-07T16:29:11.868Z'}  \n",
       "1  [24, 24\\]  {'$date': '2015-07-07T16:27:03.743Z'}  \n",
       "2      [28\\]  {'$date': '2015-07-07T16:36:22.139Z'}  \n",
       "3       [25]  {'$date': '2015-07-07T16:29:03.370Z'}  \n",
       "4      [30\\]  {'$date': '2015-07-07T16:44:25.382Z'}  "
      ]
     },
     "execution_count": 48,
     "metadata": {},
     "output_type": "execute_result"
    }
   ],
   "source": [
    "data.head()"
   ]
  },
  {
   "cell_type": "code",
   "execution_count": 49,
   "metadata": {
    "collapsed": true
   },
   "outputs": [],
   "source": [
    "data['created_at']  = pd.to_datetime(data['created_at'])"
   ]
  },
  {
   "cell_type": "code",
   "execution_count": 61,
   "metadata": {},
   "outputs": [
    {
     "data": {
      "text/html": [
       "<div>\n",
       "<style>\n",
       "    .dataframe thead tr:only-child th {\n",
       "        text-align: right;\n",
       "    }\n",
       "\n",
       "    .dataframe thead th {\n",
       "        text-align: left;\n",
       "    }\n",
       "\n",
       "    .dataframe tbody tr th {\n",
       "        vertical-align: top;\n",
       "    }\n",
       "</style>\n",
       "<table border=\"1\" class=\"dataframe\">\n",
       "  <thead>\n",
       "    <tr style=\"text-align: right;\">\n",
       "      <th></th>\n",
       "      <th>__v</th>\n",
       "      <th>_id</th>\n",
       "      <th>created_at</th>\n",
       "      <th>filter_label</th>\n",
       "      <th>label</th>\n",
       "      <th>old_label</th>\n",
       "      <th>updated_at</th>\n",
       "    </tr>\n",
       "  </thead>\n",
       "  <tbody>\n",
       "    <tr>\n",
       "      <th>0</th>\n",
       "      <td>0</td>\n",
       "      <td>557abe8565950003006fefe7</td>\n",
       "      <td>2015-06-12 11:12:05.248</td>\n",
       "      <td>S</td>\n",
       "      <td>26</td>\n",
       "      <td>[26\\]</td>\n",
       "      <td>2015-07-07 16:29:11.868</td>\n",
       "    </tr>\n",
       "    <tr>\n",
       "      <th>1</th>\n",
       "      <td>0</td>\n",
       "      <td>557abe8565950003006fefe5</td>\n",
       "      <td>2015-06-12 11:12:05.244</td>\n",
       "      <td>XS</td>\n",
       "      <td>24</td>\n",
       "      <td>[24, 24\\]</td>\n",
       "      <td>2015-07-07 16:27:03.743</td>\n",
       "    </tr>\n",
       "    <tr>\n",
       "      <th>2</th>\n",
       "      <td>0</td>\n",
       "      <td>557abe8565950003006fefe8</td>\n",
       "      <td>2015-06-12 11:12:05.249</td>\n",
       "      <td>S</td>\n",
       "      <td>28</td>\n",
       "      <td>[28\\]</td>\n",
       "      <td>2015-07-07 16:36:22.139</td>\n",
       "    </tr>\n",
       "    <tr>\n",
       "      <th>3</th>\n",
       "      <td>0</td>\n",
       "      <td>557abe8565950003006fefe6</td>\n",
       "      <td>2015-06-12 11:12:05.247</td>\n",
       "      <td>S</td>\n",
       "      <td>25</td>\n",
       "      <td>[25]</td>\n",
       "      <td>2015-07-07 16:29:03.370</td>\n",
       "    </tr>\n",
       "    <tr>\n",
       "      <th>4</th>\n",
       "      <td>0</td>\n",
       "      <td>557abe8565950003006fefe9</td>\n",
       "      <td>2015-06-12 11:12:05.249</td>\n",
       "      <td>M</td>\n",
       "      <td>30</td>\n",
       "      <td>[30\\]</td>\n",
       "      <td>2015-07-07 16:44:25.382</td>\n",
       "    </tr>\n",
       "  </tbody>\n",
       "</table>\n",
       "</div>"
      ],
      "text/plain": [
       "   __v                       _id              created_at filter_label label  \\\n",
       "0    0  557abe8565950003006fefe7 2015-06-12 11:12:05.248            S    26   \n",
       "1    0  557abe8565950003006fefe5 2015-06-12 11:12:05.244           XS    24   \n",
       "2    0  557abe8565950003006fefe8 2015-06-12 11:12:05.249            S    28   \n",
       "3    0  557abe8565950003006fefe6 2015-06-12 11:12:05.247            S    25   \n",
       "4    0  557abe8565950003006fefe9 2015-06-12 11:12:05.249            M    30   \n",
       "\n",
       "   old_label              updated_at  \n",
       "0      [26\\] 2015-07-07 16:29:11.868  \n",
       "1  [24, 24\\] 2015-07-07 16:27:03.743  \n",
       "2      [28\\] 2015-07-07 16:36:22.139  \n",
       "3       [25] 2015-07-07 16:29:03.370  \n",
       "4      [30\\] 2015-07-07 16:44:25.382  "
      ]
     },
     "execution_count": 61,
     "metadata": {},
     "output_type": "execute_result"
    }
   ],
   "source": [
    "data.head()"
   ]
  },
  {
   "cell_type": "code",
   "execution_count": 62,
   "metadata": {
    "collapsed": true
   },
   "outputs": [],
   "source": [
    "col_name3='updated_at'"
   ]
  },
  {
   "cell_type": "code",
   "execution_count": 63,
   "metadata": {},
   "outputs": [
    {
     "ename": "AttributeError",
     "evalue": "'Timestamp' object has no attribute 'keys'",
     "output_type": "error",
     "traceback": [
      "\u001b[1;31m---------------------------------------------------------------------------\u001b[0m",
      "\u001b[1;31mAttributeError\u001b[0m                            Traceback (most recent call last)",
      "\u001b[1;32m<ipython-input-63-6e7cd307288a>\u001b[0m in \u001b[0;36m<module>\u001b[1;34m()\u001b[0m\n\u001b[1;32m----> 1\u001b[1;33m \u001b[0mkeys_updt_at\u001b[0m\u001b[1;33m,\u001b[0m \u001b[0mvalues_updt_at\u001b[0m\u001b[1;33m=\u001b[0m\u001b[0mflatten_dic\u001b[0m\u001b[1;33m(\u001b[0m\u001b[0mdata\u001b[0m\u001b[1;33m,\u001b[0m\u001b[0mcol_name3\u001b[0m\u001b[1;33m)\u001b[0m\u001b[1;33m\u001b[0m\u001b[0m\n\u001b[0m",
      "\u001b[1;32m<ipython-input-30-914924d93168>\u001b[0m in \u001b[0;36mflatten_dic\u001b[1;34m(df, col_name)\u001b[0m\n\u001b[0;32m      4\u001b[0m     \u001b[1;32mfor\u001b[0m \u001b[0mindex\u001b[0m\u001b[1;33m,\u001b[0m \u001b[0mrow\u001b[0m \u001b[1;32min\u001b[0m \u001b[0mdata\u001b[0m\u001b[1;33m.\u001b[0m\u001b[0miterrows\u001b[0m\u001b[1;33m(\u001b[0m\u001b[1;33m)\u001b[0m\u001b[1;33m:\u001b[0m\u001b[1;33m\u001b[0m\u001b[0m\n\u001b[0;32m      5\u001b[0m         \u001b[0mitem\u001b[0m\u001b[1;33m=\u001b[0m\u001b[0mrow\u001b[0m\u001b[1;33m[\u001b[0m\u001b[0mcol_name\u001b[0m\u001b[1;33m]\u001b[0m\u001b[1;33m\u001b[0m\u001b[0m\n\u001b[1;32m----> 6\u001b[1;33m         \u001b[0mkeys\u001b[0m\u001b[1;33m.\u001b[0m\u001b[0mextend\u001b[0m\u001b[1;33m(\u001b[0m\u001b[0mitem\u001b[0m\u001b[1;33m.\u001b[0m\u001b[0mkeys\u001b[0m\u001b[1;33m(\u001b[0m\u001b[1;33m)\u001b[0m\u001b[1;33m)\u001b[0m\u001b[1;33m\u001b[0m\u001b[0m\n\u001b[0m\u001b[0;32m      7\u001b[0m         \u001b[0mvalues\u001b[0m\u001b[1;33m.\u001b[0m\u001b[0mextend\u001b[0m\u001b[1;33m(\u001b[0m\u001b[0mitem\u001b[0m\u001b[1;33m.\u001b[0m\u001b[0mvalues\u001b[0m\u001b[1;33m(\u001b[0m\u001b[1;33m)\u001b[0m\u001b[1;33m)\u001b[0m\u001b[1;33m\u001b[0m\u001b[0m\n\u001b[0;32m      8\u001b[0m     \u001b[1;32mreturn\u001b[0m \u001b[0mkeys\u001b[0m\u001b[1;33m,\u001b[0m \u001b[0mvalues\u001b[0m\u001b[1;33m\u001b[0m\u001b[0m\n",
      "\u001b[1;31mAttributeError\u001b[0m: 'Timestamp' object has no attribute 'keys'"
     ]
    }
   ],
   "source": [
    "keys_updt_at, values_updt_at=flatten_dic(data,col_name3)"
   ]
  },
  {
   "cell_type": "code",
   "execution_count": 54,
   "metadata": {},
   "outputs": [
    {
     "name": "stdout",
     "output_type": "stream",
     "text": [
      "1\n"
     ]
    }
   ],
   "source": [
    "print(check_unique(keys_updt_at))"
   ]
  },
  {
   "cell_type": "code",
   "execution_count": 55,
   "metadata": {},
   "outputs": [
    {
     "name": "stdout",
     "output_type": "stream",
     "text": [
      "46594\n"
     ]
    }
   ],
   "source": [
    "print(check_unique(values_updt_at))"
   ]
  },
  {
   "cell_type": "code",
   "execution_count": 56,
   "metadata": {
    "collapsed": true
   },
   "outputs": [],
   "source": [
    "### observation: there are 46 594 craeted_at values, less than lines in the DF, therefore, we can assume this column has nan values "
   ]
  },
  {
   "cell_type": "code",
   "execution_count": null,
   "metadata": {},
   "outputs": [],
   "source": [
    "clean_col(data, col_name3)"
   ]
  },
  {
   "cell_type": "code",
   "execution_count": 58,
   "metadata": {
    "collapsed": true
   },
   "outputs": [],
   "source": [
    "data['updated_at']  = pd.to_datetime(data['updated_at'])"
   ]
  },
  {
   "cell_type": "code",
   "execution_count": 64,
   "metadata": {},
   "outputs": [
    {
     "data": {
      "text/html": [
       "<div>\n",
       "<style>\n",
       "    .dataframe thead tr:only-child th {\n",
       "        text-align: right;\n",
       "    }\n",
       "\n",
       "    .dataframe thead th {\n",
       "        text-align: left;\n",
       "    }\n",
       "\n",
       "    .dataframe tbody tr th {\n",
       "        vertical-align: top;\n",
       "    }\n",
       "</style>\n",
       "<table border=\"1\" class=\"dataframe\">\n",
       "  <thead>\n",
       "    <tr style=\"text-align: right;\">\n",
       "      <th></th>\n",
       "      <th>__v</th>\n",
       "      <th>_id</th>\n",
       "      <th>created_at</th>\n",
       "      <th>filter_label</th>\n",
       "      <th>label</th>\n",
       "      <th>old_label</th>\n",
       "      <th>updated_at</th>\n",
       "    </tr>\n",
       "  </thead>\n",
       "  <tbody>\n",
       "    <tr>\n",
       "      <th>0</th>\n",
       "      <td>0</td>\n",
       "      <td>557abe8565950003006fefe7</td>\n",
       "      <td>2015-06-12 11:12:05.248</td>\n",
       "      <td>S</td>\n",
       "      <td>26</td>\n",
       "      <td>[26\\]</td>\n",
       "      <td>2015-07-07 16:29:11.868</td>\n",
       "    </tr>\n",
       "    <tr>\n",
       "      <th>1</th>\n",
       "      <td>0</td>\n",
       "      <td>557abe8565950003006fefe5</td>\n",
       "      <td>2015-06-12 11:12:05.244</td>\n",
       "      <td>XS</td>\n",
       "      <td>24</td>\n",
       "      <td>[24, 24\\]</td>\n",
       "      <td>2015-07-07 16:27:03.743</td>\n",
       "    </tr>\n",
       "    <tr>\n",
       "      <th>2</th>\n",
       "      <td>0</td>\n",
       "      <td>557abe8565950003006fefe8</td>\n",
       "      <td>2015-06-12 11:12:05.249</td>\n",
       "      <td>S</td>\n",
       "      <td>28</td>\n",
       "      <td>[28\\]</td>\n",
       "      <td>2015-07-07 16:36:22.139</td>\n",
       "    </tr>\n",
       "    <tr>\n",
       "      <th>3</th>\n",
       "      <td>0</td>\n",
       "      <td>557abe8565950003006fefe6</td>\n",
       "      <td>2015-06-12 11:12:05.247</td>\n",
       "      <td>S</td>\n",
       "      <td>25</td>\n",
       "      <td>[25]</td>\n",
       "      <td>2015-07-07 16:29:03.370</td>\n",
       "    </tr>\n",
       "    <tr>\n",
       "      <th>4</th>\n",
       "      <td>0</td>\n",
       "      <td>557abe8565950003006fefe9</td>\n",
       "      <td>2015-06-12 11:12:05.249</td>\n",
       "      <td>M</td>\n",
       "      <td>30</td>\n",
       "      <td>[30\\]</td>\n",
       "      <td>2015-07-07 16:44:25.382</td>\n",
       "    </tr>\n",
       "  </tbody>\n",
       "</table>\n",
       "</div>"
      ],
      "text/plain": [
       "   __v                       _id              created_at filter_label label  \\\n",
       "0    0  557abe8565950003006fefe7 2015-06-12 11:12:05.248            S    26   \n",
       "1    0  557abe8565950003006fefe5 2015-06-12 11:12:05.244           XS    24   \n",
       "2    0  557abe8565950003006fefe8 2015-06-12 11:12:05.249            S    28   \n",
       "3    0  557abe8565950003006fefe6 2015-06-12 11:12:05.247            S    25   \n",
       "4    0  557abe8565950003006fefe9 2015-06-12 11:12:05.249            M    30   \n",
       "\n",
       "   old_label              updated_at  \n",
       "0      [26\\] 2015-07-07 16:29:11.868  \n",
       "1  [24, 24\\] 2015-07-07 16:27:03.743  \n",
       "2      [28\\] 2015-07-07 16:36:22.139  \n",
       "3       [25] 2015-07-07 16:29:03.370  \n",
       "4      [30\\] 2015-07-07 16:44:25.382  "
      ]
     },
     "execution_count": 64,
     "metadata": {},
     "output_type": "execute_result"
    }
   ],
   "source": [
    "data.head()"
   ]
  },
  {
   "cell_type": "code",
   "execution_count": 67,
   "metadata": {},
   "outputs": [
    {
     "data": {
      "text/html": [
       "<div>\n",
       "<style>\n",
       "    .dataframe thead tr:only-child th {\n",
       "        text-align: right;\n",
       "    }\n",
       "\n",
       "    .dataframe thead th {\n",
       "        text-align: left;\n",
       "    }\n",
       "\n",
       "    .dataframe tbody tr th {\n",
       "        vertical-align: top;\n",
       "    }\n",
       "</style>\n",
       "<table border=\"1\" class=\"dataframe\">\n",
       "  <thead>\n",
       "    <tr style=\"text-align: right;\">\n",
       "      <th></th>\n",
       "      <th>old_label</th>\n",
       "      <th>filter_label</th>\n",
       "      <th>label</th>\n",
       "    </tr>\n",
       "  </thead>\n",
       "  <tbody>\n",
       "    <tr>\n",
       "      <th>0</th>\n",
       "      <td>[26\\]</td>\n",
       "      <td>S</td>\n",
       "      <td>26</td>\n",
       "    </tr>\n",
       "    <tr>\n",
       "      <th>1</th>\n",
       "      <td>[24, 24\\]</td>\n",
       "      <td>XS</td>\n",
       "      <td>24</td>\n",
       "    </tr>\n",
       "    <tr>\n",
       "      <th>2</th>\n",
       "      <td>[28\\]</td>\n",
       "      <td>S</td>\n",
       "      <td>28</td>\n",
       "    </tr>\n",
       "    <tr>\n",
       "      <th>3</th>\n",
       "      <td>[25]</td>\n",
       "      <td>S</td>\n",
       "      <td>25</td>\n",
       "    </tr>\n",
       "    <tr>\n",
       "      <th>4</th>\n",
       "      <td>[30\\]</td>\n",
       "      <td>M</td>\n",
       "      <td>30</td>\n",
       "    </tr>\n",
       "    <tr>\n",
       "      <th>5</th>\n",
       "      <td>[6 - 12m, 6-12 months, 6-12m, 6- 12 Months, 6 ...</td>\n",
       "      <td>0-1 years</td>\n",
       "      <td>6 - 12 months</td>\n",
       "    </tr>\n",
       "    <tr>\n",
       "      <th>6</th>\n",
       "      <td>[3 - 6 months, 3 - 6m, 3-6 Months, 3-6m, EU 16...</td>\n",
       "      <td>0-1 years</td>\n",
       "      <td>3 - 6 months</td>\n",
       "    </tr>\n",
       "    <tr>\n",
       "      <th>7</th>\n",
       "      <td>[2yrs, 2 years, 2y, Age 2, 2 years (92), 2 yea...</td>\n",
       "      <td>1-2 years</td>\n",
       "      <td>2 years</td>\n",
       "    </tr>\n",
       "    <tr>\n",
       "      <th>8</th>\n",
       "      <td>[54]</td>\n",
       "      <td>NaN</td>\n",
       "      <td>54</td>\n",
       "    </tr>\n",
       "    <tr>\n",
       "      <th>9</th>\n",
       "      <td>[48]</td>\n",
       "      <td>NaN</td>\n",
       "      <td>48</td>\n",
       "    </tr>\n",
       "    <tr>\n",
       "      <th>10</th>\n",
       "      <td>[12-24 months]</td>\n",
       "      <td>1-2 years</td>\n",
       "      <td>12 - 24 months</td>\n",
       "    </tr>\n",
       "    <tr>\n",
       "      <th>11</th>\n",
       "      <td>[C]</td>\n",
       "      <td>NaN</td>\n",
       "      <td>C</td>\n",
       "    </tr>\n",
       "    <tr>\n",
       "      <th>12</th>\n",
       "      <td>[sand]</td>\n",
       "      <td>NaN</td>\n",
       "      <td>Sand</td>\n",
       "    </tr>\n",
       "    <tr>\n",
       "      <th>13</th>\n",
       "      <td>[Pink, fluorescent pink, pink grapefruit, Pink...</td>\n",
       "      <td>NaN</td>\n",
       "      <td>Pink</td>\n",
       "    </tr>\n",
       "    <tr>\n",
       "      <th>14</th>\n",
       "      <td>[D]</td>\n",
       "      <td>NaN</td>\n",
       "      <td>D</td>\n",
       "    </tr>\n",
       "    <tr>\n",
       "      <th>15</th>\n",
       "      <td>[Anthracite]</td>\n",
       "      <td>NaN</td>\n",
       "      <td>Anthracite</td>\n",
       "    </tr>\n",
       "    <tr>\n",
       "      <th>16</th>\n",
       "      <td>[N, UK N, Size N, 53, Large N-O]</td>\n",
       "      <td>NaN</td>\n",
       "      <td>N</td>\n",
       "    </tr>\n",
       "    <tr>\n",
       "      <th>17</th>\n",
       "      <td>[Full alphabet]</td>\n",
       "      <td>NaN</td>\n",
       "      <td>Full alphabet</td>\n",
       "    </tr>\n",
       "    <tr>\n",
       "      <th>18</th>\n",
       "      <td>[12-18m, 12 - 18m, 12 - 18 Months, 12-18 month...</td>\n",
       "      <td>0-1 years</td>\n",
       "      <td>12 - 18 months</td>\n",
       "    </tr>\n",
       "    <tr>\n",
       "      <th>19</th>\n",
       "      <td>[18-24m, 18 - 24m, 18 - 24 Months, 18-24, 18-2...</td>\n",
       "      <td>1-2 years</td>\n",
       "      <td>18 - 24 months</td>\n",
       "    </tr>\n",
       "    <tr>\n",
       "      <th>20</th>\n",
       "      <td>[6 years, Age 6, 6y, 6 years (116), 6 years (1...</td>\n",
       "      <td>5-7 years</td>\n",
       "      <td>6 years</td>\n",
       "    </tr>\n",
       "    <tr>\n",
       "      <th>21</th>\n",
       "      <td>[R, UK R]</td>\n",
       "      <td>NaN</td>\n",
       "      <td>R</td>\n",
       "    </tr>\n",
       "    <tr>\n",
       "      <th>22</th>\n",
       "      <td>[1 - 2yrs, 1-2 years, 1- 2yrs, 1 - 2 years, 1-...</td>\n",
       "      <td>1-2 years</td>\n",
       "      <td>1 - 2 years</td>\n",
       "    </tr>\n",
       "    <tr>\n",
       "      <th>23</th>\n",
       "      <td>[12m, 12 Months]</td>\n",
       "      <td>0-1 years</td>\n",
       "      <td>12 months</td>\n",
       "    </tr>\n",
       "    <tr>\n",
       "      <th>24</th>\n",
       "      <td>[7 - 8 years, 7 - 8yrs, 7-8 yrs, 7-8 years, 7-...</td>\n",
       "      <td>8-10 years</td>\n",
       "      <td>7 - 8 years</td>\n",
       "    </tr>\n",
       "    <tr>\n",
       "      <th>25</th>\n",
       "      <td>[2-3 years, 2 - 3yrs, 2-3y, 2 - 3 Years, Age 2...</td>\n",
       "      <td>2-4 years</td>\n",
       "      <td>2 - 3 years</td>\n",
       "    </tr>\n",
       "    <tr>\n",
       "      <th>26</th>\n",
       "      <td>[UK 4.5 / EUR 21]</td>\n",
       "      <td>1-2 years</td>\n",
       "      <td>21 / UK 4.5</td>\n",
       "    </tr>\n",
       "    <tr>\n",
       "      <th>27</th>\n",
       "      <td>[Teal]</td>\n",
       "      <td>NaN</td>\n",
       "      <td>Teal</td>\n",
       "    </tr>\n",
       "    <tr>\n",
       "      <th>28</th>\n",
       "      <td>[8 years, Age 8, 8y, 8 years (128), 8years]</td>\n",
       "      <td>8-10 years</td>\n",
       "      <td>8 years</td>\n",
       "    </tr>\n",
       "    <tr>\n",
       "      <th>29</th>\n",
       "      <td>[6-9 months, 6 - 9 months, 6 - 9m, 6-9 m, 6-9m]</td>\n",
       "      <td>0-1 years</td>\n",
       "      <td>6 - 9 months</td>\n",
       "    </tr>\n",
       "    <tr>\n",
       "      <th>...</th>\n",
       "      <td>...</td>\n",
       "      <td>...</td>\n",
       "      <td>...</td>\n",
       "    </tr>\n",
       "    <tr>\n",
       "      <th>51180</th>\n",
       "      <td>[]</td>\n",
       "      <td>NaN</td>\n",
       "      <td>XS / orange</td>\n",
       "    </tr>\n",
       "    <tr>\n",
       "      <th>51181</th>\n",
       "      <td>[]</td>\n",
       "      <td>NaN</td>\n",
       "      <td>S / orange</td>\n",
       "    </tr>\n",
       "    <tr>\n",
       "      <th>51182</th>\n",
       "      <td>[]</td>\n",
       "      <td>NaN</td>\n",
       "      <td>M / orange</td>\n",
       "    </tr>\n",
       "    <tr>\n",
       "      <th>51183</th>\n",
       "      <td>[]</td>\n",
       "      <td>NaN</td>\n",
       "      <td>Size 5 / Deep  Green</td>\n",
       "    </tr>\n",
       "    <tr>\n",
       "      <th>51184</th>\n",
       "      <td>[]</td>\n",
       "      <td>NaN</td>\n",
       "      <td>Bundle #37178</td>\n",
       "    </tr>\n",
       "    <tr>\n",
       "      <th>51185</th>\n",
       "      <td>[]</td>\n",
       "      <td>NaN</td>\n",
       "      <td>Black  Bloom / XS</td>\n",
       "    </tr>\n",
       "    <tr>\n",
       "      <th>51186</th>\n",
       "      <td>[]</td>\n",
       "      <td>NaN</td>\n",
       "      <td>Monday 20th August 2-5pm</td>\n",
       "    </tr>\n",
       "    <tr>\n",
       "      <th>51187</th>\n",
       "      <td>[]</td>\n",
       "      <td>NaN</td>\n",
       "      <td>Monday 5th November 2-5pm</td>\n",
       "    </tr>\n",
       "    <tr>\n",
       "      <th>51188</th>\n",
       "      <td>[]</td>\n",
       "      <td>NaN</td>\n",
       "      <td>Saturday 11th August 11am-2pm</td>\n",
       "    </tr>\n",
       "    <tr>\n",
       "      <th>51189</th>\n",
       "      <td>[]</td>\n",
       "      <td>NaN</td>\n",
       "      <td>Sunday 16th September 2-5pm</td>\n",
       "    </tr>\n",
       "    <tr>\n",
       "      <th>51190</th>\n",
       "      <td>[]</td>\n",
       "      <td>NaN</td>\n",
       "      <td>M  / Natural/Red Manganese</td>\n",
       "    </tr>\n",
       "    <tr>\n",
       "      <th>51191</th>\n",
       "      <td>[]</td>\n",
       "      <td>NaN</td>\n",
       "      <td>26 / UK 8.5 /  Rose Check</td>\n",
       "    </tr>\n",
       "    <tr>\n",
       "      <th>51192</th>\n",
       "      <td>[]</td>\n",
       "      <td>NaN</td>\n",
       "      <td>6  - 7 Years / Red Sand</td>\n",
       "    </tr>\n",
       "    <tr>\n",
       "      <th>51193</th>\n",
       "      <td>[]</td>\n",
       "      <td>NaN</td>\n",
       "      <td>Knight  &amp; Dragon</td>\n",
       "    </tr>\n",
       "    <tr>\n",
       "      <th>51194</th>\n",
       "      <td>[]</td>\n",
       "      <td>NaN</td>\n",
       "      <td>9  Months / Powder blue</td>\n",
       "    </tr>\n",
       "    <tr>\n",
       "      <th>51195</th>\n",
       "      <td>[]</td>\n",
       "      <td>NaN</td>\n",
       "      <td>4  Years / Navy Blue</td>\n",
       "    </tr>\n",
       "    <tr>\n",
       "      <th>51196</th>\n",
       "      <td>[]</td>\n",
       "      <td>NaN</td>\n",
       "      <td>17.5  / Blue</td>\n",
       "    </tr>\n",
       "    <tr>\n",
       "      <th>51197</th>\n",
       "      <td>[]</td>\n",
       "      <td>NaN</td>\n",
       "      <td>Set 16</td>\n",
       "    </tr>\n",
       "    <tr>\n",
       "      <th>51198</th>\n",
       "      <td>[]</td>\n",
       "      <td>NaN</td>\n",
       "      <td>Small - 3</td>\n",
       "    </tr>\n",
       "    <tr>\n",
       "      <th>51199</th>\n",
       "      <td>[]</td>\n",
       "      <td>NaN</td>\n",
       "      <td>Round - 3cm</td>\n",
       "    </tr>\n",
       "    <tr>\n",
       "      <th>51200</th>\n",
       "      <td>[]</td>\n",
       "      <td>NaN</td>\n",
       "      <td>Round - 2cm</td>\n",
       "    </tr>\n",
       "    <tr>\n",
       "      <th>51201</th>\n",
       "      <td>[]</td>\n",
       "      <td>NaN</td>\n",
       "      <td>4 - Small</td>\n",
       "    </tr>\n",
       "    <tr>\n",
       "      <th>51202</th>\n",
       "      <td>[]</td>\n",
       "      <td>NaN</td>\n",
       "      <td>Dot  graph</td>\n",
       "    </tr>\n",
       "    <tr>\n",
       "      <th>51203</th>\n",
       "      <td>[]</td>\n",
       "      <td>NaN</td>\n",
       "      <td>Pink dots</td>\n",
       "    </tr>\n",
       "    <tr>\n",
       "      <th>51204</th>\n",
       "      <td>[]</td>\n",
       "      <td>NaN</td>\n",
       "      <td>Grey dots</td>\n",
       "    </tr>\n",
       "    <tr>\n",
       "      <th>51205</th>\n",
       "      <td>[]</td>\n",
       "      <td>NaN</td>\n",
       "      <td>XXL (36-38  waist) / Light Blue</td>\n",
       "    </tr>\n",
       "    <tr>\n",
       "      <th>51206</th>\n",
       "      <td>[]</td>\n",
       "      <td>NaN</td>\n",
       "      <td>Bundle #37199</td>\n",
       "    </tr>\n",
       "    <tr>\n",
       "      <th>51207</th>\n",
       "      <td>[]</td>\n",
       "      <td>NaN</td>\n",
       "      <td>Bundle #37201</td>\n",
       "    </tr>\n",
       "    <tr>\n",
       "      <th>51208</th>\n",
       "      <td>[]</td>\n",
       "      <td>NaN</td>\n",
       "      <td>Bundle #37266</td>\n",
       "    </tr>\n",
       "    <tr>\n",
       "      <th>51209</th>\n",
       "      <td>[]</td>\n",
       "      <td>NaN</td>\n",
       "      <td>Carnival  / L</td>\n",
       "    </tr>\n",
       "  </tbody>\n",
       "</table>\n",
       "<p>51210 rows × 3 columns</p>\n",
       "</div>"
      ],
      "text/plain": [
       "                                               old_label filter_label  \\\n",
       "0                                                  [26\\]            S   \n",
       "1                                              [24, 24\\]           XS   \n",
       "2                                                  [28\\]            S   \n",
       "3                                                   [25]            S   \n",
       "4                                                  [30\\]            M   \n",
       "5      [6 - 12m, 6-12 months, 6-12m, 6- 12 Months, 6 ...    0-1 years   \n",
       "6      [3 - 6 months, 3 - 6m, 3-6 Months, 3-6m, EU 16...    0-1 years   \n",
       "7      [2yrs, 2 years, 2y, Age 2, 2 years (92), 2 yea...    1-2 years   \n",
       "8                                                   [54]          NaN   \n",
       "9                                                   [48]          NaN   \n",
       "10                                        [12-24 months]    1-2 years   \n",
       "11                                                   [C]          NaN   \n",
       "12                                                [sand]          NaN   \n",
       "13     [Pink, fluorescent pink, pink grapefruit, Pink...          NaN   \n",
       "14                                                   [D]          NaN   \n",
       "15                                          [Anthracite]          NaN   \n",
       "16                      [N, UK N, Size N, 53, Large N-O]          NaN   \n",
       "17                                       [Full alphabet]          NaN   \n",
       "18     [12-18m, 12 - 18m, 12 - 18 Months, 12-18 month...    0-1 years   \n",
       "19     [18-24m, 18 - 24m, 18 - 24 Months, 18-24, 18-2...    1-2 years   \n",
       "20     [6 years, Age 6, 6y, 6 years (116), 6 years (1...    5-7 years   \n",
       "21                                             [R, UK R]          NaN   \n",
       "22     [1 - 2yrs, 1-2 years, 1- 2yrs, 1 - 2 years, 1-...    1-2 years   \n",
       "23                                      [12m, 12 Months]    0-1 years   \n",
       "24     [7 - 8 years, 7 - 8yrs, 7-8 yrs, 7-8 years, 7-...   8-10 years   \n",
       "25     [2-3 years, 2 - 3yrs, 2-3y, 2 - 3 Years, Age 2...    2-4 years   \n",
       "26                                     [UK 4.5 / EUR 21]    1-2 years   \n",
       "27                                                [Teal]          NaN   \n",
       "28           [8 years, Age 8, 8y, 8 years (128), 8years]   8-10 years   \n",
       "29       [6-9 months, 6 - 9 months, 6 - 9m, 6-9 m, 6-9m]    0-1 years   \n",
       "...                                                  ...          ...   \n",
       "51180                                                 []          NaN   \n",
       "51181                                                 []          NaN   \n",
       "51182                                                 []          NaN   \n",
       "51183                                                 []          NaN   \n",
       "51184                                                 []          NaN   \n",
       "51185                                                 []          NaN   \n",
       "51186                                                 []          NaN   \n",
       "51187                                                 []          NaN   \n",
       "51188                                                 []          NaN   \n",
       "51189                                                 []          NaN   \n",
       "51190                                                 []          NaN   \n",
       "51191                                                 []          NaN   \n",
       "51192                                                 []          NaN   \n",
       "51193                                                 []          NaN   \n",
       "51194                                                 []          NaN   \n",
       "51195                                                 []          NaN   \n",
       "51196                                                 []          NaN   \n",
       "51197                                                 []          NaN   \n",
       "51198                                                 []          NaN   \n",
       "51199                                                 []          NaN   \n",
       "51200                                                 []          NaN   \n",
       "51201                                                 []          NaN   \n",
       "51202                                                 []          NaN   \n",
       "51203                                                 []          NaN   \n",
       "51204                                                 []          NaN   \n",
       "51205                                                 []          NaN   \n",
       "51206                                                 []          NaN   \n",
       "51207                                                 []          NaN   \n",
       "51208                                                 []          NaN   \n",
       "51209                                                 []          NaN   \n",
       "\n",
       "                                 label  \n",
       "0                                   26  \n",
       "1                                   24  \n",
       "2                                   28  \n",
       "3                                   25  \n",
       "4                                   30  \n",
       "5                        6 - 12 months  \n",
       "6                         3 - 6 months  \n",
       "7                              2 years  \n",
       "8                                   54  \n",
       "9                                   48  \n",
       "10                      12 - 24 months  \n",
       "11                                   C  \n",
       "12                                Sand  \n",
       "13                                Pink  \n",
       "14                                   D  \n",
       "15                          Anthracite  \n",
       "16                                   N  \n",
       "17                       Full alphabet  \n",
       "18                      12 - 18 months  \n",
       "19                      18 - 24 months  \n",
       "20                             6 years  \n",
       "21                                   R  \n",
       "22                         1 - 2 years  \n",
       "23                           12 months  \n",
       "24                         7 - 8 years  \n",
       "25                         2 - 3 years  \n",
       "26                         21 / UK 4.5  \n",
       "27                                Teal  \n",
       "28                             8 years  \n",
       "29                        6 - 9 months  \n",
       "...                                ...  \n",
       "51180                      XS / orange  \n",
       "51181                       S / orange  \n",
       "51182                       M / orange  \n",
       "51183             Size 5 / Deep  Green  \n",
       "51184                    Bundle #37178  \n",
       "51185                Black  Bloom / XS  \n",
       "51186         Monday 20th August 2-5pm  \n",
       "51187        Monday 5th November 2-5pm  \n",
       "51188    Saturday 11th August 11am-2pm  \n",
       "51189      Sunday 16th September 2-5pm  \n",
       "51190       M  / Natural/Red Manganese  \n",
       "51191        26 / UK 8.5 /  Rose Check  \n",
       "51192          6  - 7 Years / Red Sand  \n",
       "51193                 Knight  & Dragon  \n",
       "51194          9  Months / Powder blue  \n",
       "51195             4  Years / Navy Blue  \n",
       "51196                     17.5  / Blue  \n",
       "51197                           Set 16  \n",
       "51198                        Small - 3  \n",
       "51199                      Round - 3cm  \n",
       "51200                      Round - 2cm  \n",
       "51201                        4 - Small  \n",
       "51202                       Dot  graph  \n",
       "51203                        Pink dots  \n",
       "51204                        Grey dots  \n",
       "51205  XXL (36-38  waist) / Light Blue  \n",
       "51206                    Bundle #37199  \n",
       "51207                    Bundle #37201  \n",
       "51208                    Bundle #37266  \n",
       "51209                    Carnival  / L  \n",
       "\n",
       "[51210 rows x 3 columns]"
      ]
     },
     "execution_count": 67,
     "metadata": {},
     "output_type": "execute_result"
    }
   ],
   "source": [
    "data[['old_label','filter_label','label']]"
   ]
  },
  {
   "cell_type": "code",
   "execution_count": null,
   "metadata": {
    "collapsed": true
   },
   "outputs": [],
   "source": []
  }
 ],
 "metadata": {
  "kernelspec": {
   "display_name": "Python 3",
   "language": "python",
   "name": "python3"
  },
  "language_info": {
   "codemirror_mode": {
    "name": "ipython",
    "version": 3
   },
   "file_extension": ".py",
   "mimetype": "text/x-python",
   "name": "python",
   "nbconvert_exporter": "python",
   "pygments_lexer": "ipython3",
   "version": "3.6.1"
  }
 },
 "nbformat": 4,
 "nbformat_minor": 2
}
